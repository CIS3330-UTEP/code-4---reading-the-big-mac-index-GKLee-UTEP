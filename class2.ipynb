{
 "cells": [
  {
   "cell_type": "markdown",
   "metadata": {},
   "source": [
    "## What are Algorithms?\n",
    "List of procedures to complete a task\n",
    "\n",
    "## Greedy Algorithms\n",
    "Algorithms that provide the best solutions available given the constraints. \n",
    "\n",
    "## Dynamic Programming\n",
    "\n",
    "## Divide and conquer\n",
    "Solving a problem by dividing it into smaller problems\n",
    "Separating the functionalitites of a program is a good place to start.\n",
    "priortizing the functionalitites of a program is a second good step\n",
    "functionalitites need to remain in time\n",
    "Dividing helps maintain isolations\n",
    "unit testing helps assure functions work\n",
    "\n",
    "# Pandas Review\n",
    "\n"
   ]
  }
 ],
 "metadata": {
  "language_info": {
   "name": "python"
  }
 },
 "nbformat": 4,
 "nbformat_minor": 2
}
